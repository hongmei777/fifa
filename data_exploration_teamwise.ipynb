{
 "cells": [
  {
   "cell_type": "code",
   "execution_count": 15,
   "metadata": {},
   "outputs": [],
   "source": [
    "#Final data teamwise\n",
    "\n",
    "#The final dataset contains 21 columns\n",
    "#•gameid: ID of the game on transfermarkt\n",
    "#•tournament: tournament during which the game took place\n",
    "#•gametype: which round of the tournament the game took place in\n",
    "#•team: The team\n",
    "#•teamid: ID of the team on transfermarkt\n",
    "#•result: Number of goals scored by the team in that game\n",
    "#•team_age: Average age of the team\n",
    "#•deff_val_1: Average market value of the players in team minus average market value of the opponent in the game\n",
    "#•deff_val_2: 1-(average market value of the team)/(average markte value of the opponent)\n",
    "#•past_result: Weighted moving average of goals scored by the team in past encounters against the same opponet team as in this game\n",
    "    \n",
    "#Target variables are\n",
    "#•result\n",
    "\n",
    "#Possible predictor variables are\n",
    "#•gametype\n",
    "#•deff_val_1, deff_val_2\n",
    "#•past_result\n"
   ]
  },
  {
   "cell_type": "code",
   "execution_count": 7,
   "metadata": {},
   "outputs": [],
   "source": [
    "import csv\n",
    "import unicodecsv\n",
    "with open(\"final.csv\", mode=\"r\", newline='\\n', encoding='utf-8') as infile:\n",
    "    reader=csv.DictReader(infile, delimiter = \";\")   \n",
    "    with open(\"final_teamwise.csv\", mode=\"w\", encoding='utf-8') as outfile:\n",
    "        writer = csv.writer(outfile, delimiter=',' , lineterminator='\\n')\n",
    "        gameid=\"gameid\"\n",
    "        tournament=\"tournament\"\n",
    "        gametype=\"gametype\"\n",
    "        team = \"team\" \n",
    "        teamid = \"teamid\"\n",
    "        result=\"result\" \n",
    "        date = \"date\"\n",
    "        age = \"age\"\n",
    "        diff_value_1 = \"diff_value_1\" # the diff value between the team and the opponent\n",
    "        diff_value_2 = \"diff_value_2\" # 1- (team value)/(opponent team value)\n",
    "        past_result = \"past_result\"\n",
    "        \n",
    "\n",
    "        writer.writerow([gameid, tournament, gametype, team, teamid, result, age, diff_value_1, diff_value_2, past_result])\n",
    "        for row in reader:\n",
    "            gameid=row[\"gameid\"]\n",
    "            tournament=row[\"tournament\"]\n",
    "            gametype=row[\"gametype\"]\n",
    "            teamA=row[\"teamA\"]\n",
    "            teamB=row[\"teamB\"]\n",
    "            past_resultA = row[\"past_resultA\"]\n",
    "            past_resultB = row[\"past_resultB\"]\n",
    "            teamidA = row[\"teamidA\"]\n",
    "            teamidB = row[\"teamidB\"]\n",
    "            resultA=row[\"resultA\"]\n",
    "            resultB=row[\"resultB\"]\n",
    "            date = row[\"date\"]\n",
    "            teamA_age=row[\"teamA_age\"]\n",
    "            teamB_age=row[\"teamB_age\"]\n",
    "            teamA_def_val = float(row[\"teamA_def_val\"])\n",
    "            teamB_def_val = float(row[\"teamB_def_val\"])\n",
    "            teamA_off_val = float(row[\"teamA_off_val\"])\n",
    "            teamB_off_val = float(row[\"teamB_off_val\"])\n",
    "            teamA_frag = row[\"teamA_frag\"]\n",
    "            teamB_frag = row[\"teamB_frag\"]\n",
    "            teamA_value = teamA_def_val+teamA_off_val\n",
    "            teamB_value = teamB_def_val+teamB_off_val\n",
    "            \n",
    "            team=teamA\n",
    "            teamid = teamidA\n",
    "            age=teamA_age\n",
    "            diff_value_1 = teamA_value-teamB_value\n",
    "            diff_value_2 = float(1-teamB_value/teamA_value)# teamA_value increasing, teamB decreasing\n",
    "            result=resultA\n",
    "            past_result=past_resultA\n",
    "            writer.writerow([gameid, tournament, gametype, team, teamid, result, age, diff_value_1, diff_value_2, past_result])\n",
    "            team=teamB\n",
    "            teamid = teamidB\n",
    "            age=teamB_age\n",
    "            diff_value_1 = teamB_value-teamA_value\n",
    "            diff_value_2 = float(1-teamA_value/teamB_value)\n",
    "            result=resultB\n",
    "            past_result=past_resultB\n",
    "            writer.writerow([gameid, tournament, gametype, team, teamid, result, age, diff_value_1, diff_value_2, past_result])\n",
    "        outfile.close()\n",
    "    infile.close()"
   ]
  },
  {
   "cell_type": "code",
   "execution_count": 10,
   "metadata": {
    "collapsed": true
   },
   "outputs": [],
   "source": [
    "data=pd.read_csv(filepath_or_buffer=\"final_teamwise.csv\",delimiter=\",\",index_col=False).round(2)"
   ]
  },
  {
   "cell_type": "code",
   "execution_count": 11,
   "metadata": {},
   "outputs": [
    {
     "data": {
      "text/html": [
       "<div>\n",
       "<style>\n",
       "    .dataframe thead tr:only-child th {\n",
       "        text-align: right;\n",
       "    }\n",
       "\n",
       "    .dataframe thead th {\n",
       "        text-align: left;\n",
       "    }\n",
       "\n",
       "    .dataframe tbody tr th {\n",
       "        vertical-align: top;\n",
       "    }\n",
       "</style>\n",
       "<table border=\"1\" class=\"dataframe\">\n",
       "  <thead>\n",
       "    <tr style=\"text-align: right;\">\n",
       "      <th></th>\n",
       "      <th>gameid</th>\n",
       "      <th>tournament</th>\n",
       "      <th>gametype</th>\n",
       "      <th>team</th>\n",
       "      <th>teamid</th>\n",
       "      <th>result</th>\n",
       "      <th>age</th>\n",
       "      <th>diff_value_1</th>\n",
       "      <th>diff_value_2</th>\n",
       "      <th>past_result</th>\n",
       "    </tr>\n",
       "  </thead>\n",
       "  <tbody>\n",
       "    <tr>\n",
       "      <th>0</th>\n",
       "      <td>910204</td>\n",
       "      <td>EM08</td>\n",
       "      <td>Finale</td>\n",
       "      <td>Deutschland</td>\n",
       "      <td>3262</td>\n",
       "      <td>0</td>\n",
       "      <td>26.78</td>\n",
       "      <td>-13009090.91</td>\n",
       "      <td>-0.64</td>\n",
       "      <td>1.14</td>\n",
       "    </tr>\n",
       "    <tr>\n",
       "      <th>1</th>\n",
       "      <td>910204</td>\n",
       "      <td>EM08</td>\n",
       "      <td>Finale</td>\n",
       "      <td>Spanien</td>\n",
       "      <td>3375</td>\n",
       "      <td>1</td>\n",
       "      <td>26.09</td>\n",
       "      <td>13009090.91</td>\n",
       "      <td>0.39</td>\n",
       "      <td>2.90</td>\n",
       "    </tr>\n",
       "    <tr>\n",
       "      <th>2</th>\n",
       "      <td>910203</td>\n",
       "      <td>EM08</td>\n",
       "      <td>Halbfinale</td>\n",
       "      <td>Russland</td>\n",
       "      <td>3448</td>\n",
       "      <td>0</td>\n",
       "      <td>25.76</td>\n",
       "      <td>-22916048.95</td>\n",
       "      <td>-2.07</td>\n",
       "      <td>0.95</td>\n",
       "    </tr>\n",
       "    <tr>\n",
       "      <th>3</th>\n",
       "      <td>910203</td>\n",
       "      <td>EM08</td>\n",
       "      <td>Halbfinale</td>\n",
       "      <td>Spanien</td>\n",
       "      <td>3375</td>\n",
       "      <td>3</td>\n",
       "      <td>26.09</td>\n",
       "      <td>22916048.95</td>\n",
       "      <td>0.67</td>\n",
       "      <td>3.80</td>\n",
       "    </tr>\n",
       "    <tr>\n",
       "      <th>4</th>\n",
       "      <td>910200</td>\n",
       "      <td>EM08</td>\n",
       "      <td>Halbfinale</td>\n",
       "      <td>Deutschland</td>\n",
       "      <td>3262</td>\n",
       "      <td>3</td>\n",
       "      <td>26.78</td>\n",
       "      <td>12141378.07</td>\n",
       "      <td>0.60</td>\n",
       "      <td>0.95</td>\n",
       "    </tr>\n",
       "  </tbody>\n",
       "</table>\n",
       "</div>"
      ],
      "text/plain": [
       "   gameid tournament    gametype         team  teamid  result    age  \\\n",
       "0  910204       EM08      Finale  Deutschland    3262       0  26.78   \n",
       "1  910204       EM08      Finale      Spanien    3375       1  26.09   \n",
       "2  910203       EM08  Halbfinale     Russland    3448       0  25.76   \n",
       "3  910203       EM08  Halbfinale      Spanien    3375       3  26.09   \n",
       "4  910200       EM08  Halbfinale  Deutschland    3262       3  26.78   \n",
       "\n",
       "   diff_value_1  diff_value_2  past_result  \n",
       "0  -13009090.91         -0.64         1.14  \n",
       "1   13009090.91          0.39         2.90  \n",
       "2  -22916048.95         -2.07         0.95  \n",
       "3   22916048.95          0.67         3.80  \n",
       "4   12141378.07          0.60         0.95  "
      ]
     },
     "execution_count": 11,
     "metadata": {},
     "output_type": "execute_result"
    }
   ],
   "source": [
    "data.head()"
   ]
  },
  {
   "cell_type": "code",
   "execution_count": 12,
   "metadata": {},
   "outputs": [
    {
     "name": "stdout",
     "output_type": "stream",
     "text": [
      "<class 'pandas.core.frame.DataFrame'>\n",
      "RangeIndex: 1132 entries, 0 to 1131\n",
      "Data columns (total 10 columns):\n",
      "gameid          1132 non-null int64\n",
      "tournament      1132 non-null object\n",
      "gametype        1132 non-null object\n",
      "team            1132 non-null object\n",
      "teamid          1132 non-null int64\n",
      "result          1132 non-null int64\n",
      "age             1132 non-null float64\n",
      "diff_value_1    1132 non-null float64\n",
      "diff_value_2    1132 non-null float64\n",
      "past_result     878 non-null float64\n",
      "dtypes: float64(4), int64(3), object(3)\n",
      "memory usage: 88.5+ KB\n"
     ]
    }
   ],
   "source": [
    "data.info()"
   ]
  },
  {
   "cell_type": "code",
   "execution_count": 13,
   "metadata": {},
   "outputs": [
    {
     "data": {
      "text/plain": [
       "gameid            0\n",
       "tournament        0\n",
       "gametype          0\n",
       "team              0\n",
       "teamid            0\n",
       "result            0\n",
       "age               0\n",
       "diff_value_1      0\n",
       "diff_value_2      0\n",
       "past_result     254\n",
       "dtype: int64"
      ]
     },
     "execution_count": 13,
     "metadata": {},
     "output_type": "execute_result"
    }
   ],
   "source": [
    "data.isnull().sum()"
   ]
  },
  {
   "cell_type": "code",
   "execution_count": null,
   "metadata": {
    "collapsed": true
   },
   "outputs": [],
   "source": [
    "# upload final_teamwise.csv into facets to explore the data"
   ]
  }
 ],
 "metadata": {
  "kernelspec": {
   "display_name": "Python 3",
   "language": "python",
   "name": "python3"
  },
  "language_info": {
   "codemirror_mode": {
    "name": "ipython",
    "version": 3
   },
   "file_extension": ".py",
   "mimetype": "text/x-python",
   "name": "python",
   "nbconvert_exporter": "python",
   "pygments_lexer": "ipython3",
   "version": "3.6.3"
  }
 },
 "nbformat": 4,
 "nbformat_minor": 2
}
